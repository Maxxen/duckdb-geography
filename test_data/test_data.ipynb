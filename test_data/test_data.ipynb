{
 "cells": [
  {
   "cell_type": "code",
   "execution_count": 2,
   "metadata": {},
   "outputs": [],
   "source": [
    "import geoarrow.pyarrow as ga\n",
    "import geopandas\n",
    "import pyarrow as pa\n",
    "from pyarrow import feather\n",
    "from pyarrow import parquet"
   ]
  },
  {
   "cell_type": "code",
   "execution_count": null,
   "metadata": {},
   "outputs": [],
   "source": [
    "# ! curl -L https://github.com/geoarrow/geoarrow-data/releases/download/v0.1.0/ns-water-water_junc-wkb.arrow > ns-water-water_junc-wkb.arrow"
   ]
  },
  {
   "cell_type": "code",
   "execution_count": 4,
   "metadata": {},
   "outputs": [
    {
     "data": {
      "text/plain": [
       "0         MULTIPOINT (-65.45576 43.49082)\n",
       "1         MULTIPOINT (-65.67402 43.48605)\n",
       "2         MULTIPOINT (-65.40198 43.49229)\n",
       "3         MULTIPOINT (-65.45929 43.49147)\n",
       "4         MULTIPOINT (-65.40281 43.49309)\n",
       "                       ...               \n",
       "309183    MULTIPOINT (-63.29783 44.78155)\n",
       "309184    MULTIPOINT (-63.29388 44.78166)\n",
       "309185     MULTIPOINT (-63.28781 44.7817)\n",
       "309186    MULTIPOINT (-63.29911 44.78184)\n",
       "309187    MULTIPOINT (-63.28825 44.78206)\n",
       "Length: 309188, dtype: geometry"
      ]
     },
     "execution_count": 4,
     "metadata": {},
     "output_type": "execute_result"
    }
   ],
   "source": [
    "tab = feather.read_table(\"ns-water-water_junc-wkb.arrow\")\n",
    "gs = geopandas.GeoSeries.from_arrow(pa.concat_arrays(tab[\"geometry\"].chunks)).to_crs(\"OGC:CRS84\")\n",
    "gs"
   ]
  },
  {
   "cell_type": "code",
   "execution_count": 5,
   "metadata": {},
   "outputs": [],
   "source": [
    "tab_out = pa.table({\"FEAT_CODE\": tab[\"FEAT_CODE\"], \"geometry\": gs.to_wkb()})\n",
    "parquet.write_table(tab_out, \"water_junc.parquet\", compression=\"zstd\")"
   ]
  },
  {
   "cell_type": "code",
   "execution_count": null,
   "metadata": {},
   "outputs": [],
   "source": [
    "# ! rm ns-water-water_junc-wkb.arrow"
   ]
  }
 ],
 "metadata": {
  "kernelspec": {
   "display_name": ".venv",
   "language": "python",
   "name": "python3"
  },
  "language_info": {
   "codemirror_mode": {
    "name": "ipython",
    "version": 3
   },
   "file_extension": ".py",
   "mimetype": "text/x-python",
   "name": "python",
   "nbconvert_exporter": "python",
   "pygments_lexer": "ipython3",
   "version": "3.12.7"
  }
 },
 "nbformat": 4,
 "nbformat_minor": 2
}
